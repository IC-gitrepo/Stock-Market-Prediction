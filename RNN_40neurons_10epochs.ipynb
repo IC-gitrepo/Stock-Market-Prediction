{
 "cells": [
  {
   "cell_type": "markdown",
   "metadata": {},
   "source": [
    "# Stock Prices Prediction using Recurrent Neural Network"
   ]
  },
  {
   "cell_type": "markdown",
   "metadata": {},
   "source": [
    "##  Fetch and clean the data"
   ]
  },
  {
   "cell_type": "code",
   "execution_count": 1,
   "metadata": {},
   "outputs": [],
   "source": [
    "import warnings\n",
    "warnings.filterwarnings('ignore')\n",
    "\n",
    "import numpy as np\n",
    "import pandas as pd \n",
    "\n",
    "import matplotlib.pyplot as plt\n",
    "%matplotlib inline\n",
    "import tensorflow as tf\n",
    "from time import time\n",
    "\n",
    "import matplotlib as mpl\n",
    "mpl.rcParams['figure.figsize'] = (10,6)"
   ]
  },
  {
   "cell_type": "code",
   "execution_count": 2,
   "metadata": {},
   "outputs": [
    {
     "data": {
      "text/html": [
       "<div>\n",
       "<style scoped>\n",
       "    .dataframe tbody tr th:only-of-type {\n",
       "        vertical-align: middle;\n",
       "    }\n",
       "\n",
       "    .dataframe tbody tr th {\n",
       "        vertical-align: top;\n",
       "    }\n",
       "\n",
       "    .dataframe thead th {\n",
       "        text-align: right;\n",
       "    }\n",
       "</style>\n",
       "<table border=\"1\" class=\"dataframe\">\n",
       "  <thead>\n",
       "    <tr style=\"text-align: right;\">\n",
       "      <th></th>\n",
       "      <th>Close</th>\n",
       "      <th>Adj Close</th>\n",
       "      <th>roll_mean</th>\n",
       "      <th>band1</th>\n",
       "      <th>band2</th>\n",
       "      <th>daily_ret</th>\n",
       "      <th>cumulative ret</th>\n",
       "      <th>roll_std</th>\n",
       "      <th>momentum</th>\n",
       "      <th>stochastic osc</th>\n",
       "      <th>Close Predict</th>\n",
       "    </tr>\n",
       "    <tr>\n",
       "      <th>Date</th>\n",
       "      <th></th>\n",
       "      <th></th>\n",
       "      <th></th>\n",
       "      <th></th>\n",
       "      <th></th>\n",
       "      <th></th>\n",
       "      <th></th>\n",
       "      <th></th>\n",
       "      <th></th>\n",
       "      <th></th>\n",
       "      <th></th>\n",
       "    </tr>\n",
       "  </thead>\n",
       "  <tbody>\n",
       "    <tr>\n",
       "      <th>2002-07-15</th>\n",
       "      <td>12.75</td>\n",
       "      <td>11.583749</td>\n",
       "      <td>13.480759</td>\n",
       "      <td>15.032896</td>\n",
       "      <td>11.928622</td>\n",
       "      <td>-0.150000</td>\n",
       "      <td>-0.150000</td>\n",
       "      <td>0.776068</td>\n",
       "      <td>-0.833253</td>\n",
       "      <td>0.0</td>\n",
       "      <td>11.356618</td>\n",
       "    </tr>\n",
       "    <tr>\n",
       "      <th>2002-07-16</th>\n",
       "      <td>12.50</td>\n",
       "      <td>11.356618</td>\n",
       "      <td>13.253626</td>\n",
       "      <td>15.297040</td>\n",
       "      <td>11.210213</td>\n",
       "      <td>-0.019608</td>\n",
       "      <td>-0.166667</td>\n",
       "      <td>1.021707</td>\n",
       "      <td>-0.166667</td>\n",
       "      <td>0.0</td>\n",
       "      <td>11.356618</td>\n",
       "    </tr>\n",
       "    <tr>\n",
       "      <th>2002-07-17</th>\n",
       "      <td>12.50</td>\n",
       "      <td>11.356618</td>\n",
       "      <td>13.014683</td>\n",
       "      <td>15.341358</td>\n",
       "      <td>10.688009</td>\n",
       "      <td>0.000000</td>\n",
       "      <td>-0.166667</td>\n",
       "      <td>1.163337</td>\n",
       "      <td>-0.173827</td>\n",
       "      <td>0.0</td>\n",
       "      <td>10.675220</td>\n",
       "    </tr>\n",
       "    <tr>\n",
       "      <th>2002-07-18</th>\n",
       "      <td>11.75</td>\n",
       "      <td>10.675220</td>\n",
       "      <td>12.719411</td>\n",
       "      <td>15.419645</td>\n",
       "      <td>10.019178</td>\n",
       "      <td>-0.060000</td>\n",
       "      <td>-0.216667</td>\n",
       "      <td>1.350117</td>\n",
       "      <td>-0.216667</td>\n",
       "      <td>0.0</td>\n",
       "      <td>9.539557</td>\n",
       "    </tr>\n",
       "    <tr>\n",
       "      <th>2002-07-19</th>\n",
       "      <td>10.50</td>\n",
       "      <td>9.539557</td>\n",
       "      <td>12.310573</td>\n",
       "      <td>15.577913</td>\n",
       "      <td>9.043233</td>\n",
       "      <td>-0.106383</td>\n",
       "      <td>-0.300000</td>\n",
       "      <td>1.633670</td>\n",
       "      <td>-0.300000</td>\n",
       "      <td>0.0</td>\n",
       "      <td>9.266995</td>\n",
       "    </tr>\n",
       "  </tbody>\n",
       "</table>\n",
       "</div>"
      ],
      "text/plain": [
       "            Close  Adj Close  roll_mean      band1      band2  daily_ret  \\\n",
       "Date                                                                       \n",
       "2002-07-15  12.75  11.583749  13.480759  15.032896  11.928622  -0.150000   \n",
       "2002-07-16  12.50  11.356618  13.253626  15.297040  11.210213  -0.019608   \n",
       "2002-07-17  12.50  11.356618  13.014683  15.341358  10.688009   0.000000   \n",
       "2002-07-18  11.75  10.675220  12.719411  15.419645  10.019178  -0.060000   \n",
       "2002-07-19  10.50   9.539557  12.310573  15.577913   9.043233  -0.106383   \n",
       "\n",
       "            cumulative ret  roll_std  momentum  stochastic osc  Close Predict  \n",
       "Date                                                                           \n",
       "2002-07-15       -0.150000  0.776068 -0.833253             0.0      11.356618  \n",
       "2002-07-16       -0.166667  1.021707 -0.166667             0.0      11.356618  \n",
       "2002-07-17       -0.166667  1.163337 -0.173827             0.0      10.675220  \n",
       "2002-07-18       -0.216667  1.350117 -0.216667             0.0       9.539557  \n",
       "2002-07-19       -0.300000  1.633670 -0.300000             0.0       9.266995  "
      ]
     },
     "execution_count": 2,
     "metadata": {},
     "output_type": "execute_result"
    }
   ],
   "source": [
    "data = pd.read_csv('NasdaqInc_stockdata_features.csv', index_col = 'Date')\n",
    "data = data.replace([np.inf, -np.inf], np.nan).dropna() #replace infinite values by nan, and drop all rows with nans\n",
    "data.head()"
   ]
  },
  {
   "cell_type": "markdown",
   "metadata": {},
   "source": [
    "##  Visualize the data"
   ]
  },
  {
   "cell_type": "code",
   "execution_count": 3,
   "metadata": {},
   "outputs": [
    {
     "data": {
      "image/png": "[encoded data removed]",
      "text/plain": [
       "<matplotlib.figure.Figure at 0x7a91e27358>"
      ]
     },
     "metadata": {},
     "output_type": "display_data"
    }
   ],
   "source": [
    "data[:10].plot(use_index = True, kind = 'bar')\n",
    "plt.title('Unscaled Data')\n",
    "plt.xlabel('Dates')\n",
    "plt.ylabel('Stock Prices')\n",
    "plt.show()"
   ]
  },
  {
   "cell_type": "markdown",
   "metadata": {},
   "source": [
    "##  Feature scaling"
   ]
  },
  {
   "cell_type": "code",
   "execution_count": 4,
   "metadata": {},
   "outputs": [
    {
     "name": "stdout",
     "output_type": "stream",
     "text": [
      "DataFrame: (3753, 11)\n",
      "Standardization makes the mean close to zero. All feature values now lie between -1 and +1\n"
     ]
    },
    {
     "data": {
      "text/html": [
       "<div>\n",
       "<style scoped>\n",
       "    .dataframe tbody tr th:only-of-type {\n",
       "        vertical-align: middle;\n",
       "    }\n",
       "\n",
       "    .dataframe tbody tr th {\n",
       "        vertical-align: top;\n",
       "    }\n",
       "\n",
       "    .dataframe thead th {\n",
       "        text-align: right;\n",
       "    }\n",
       "</style>\n",
       "<table border=\"1\" class=\"dataframe\">\n",
       "  <thead>\n",
       "    <tr style=\"text-align: right;\">\n",
       "      <th></th>\n",
       "      <th>Close</th>\n",
       "      <th>Adj Close</th>\n",
       "      <th>roll_mean</th>\n",
       "      <th>band1</th>\n",
       "      <th>band2</th>\n",
       "      <th>daily_ret</th>\n",
       "      <th>cumulative ret</th>\n",
       "      <th>roll_std</th>\n",
       "      <th>momentum</th>\n",
       "      <th>stochastic osc</th>\n",
       "      <th>Close Predict</th>\n",
       "    </tr>\n",
       "    <tr>\n",
       "      <th>Date</th>\n",
       "      <th></th>\n",
       "      <th></th>\n",
       "      <th></th>\n",
       "      <th></th>\n",
       "      <th></th>\n",
       "      <th></th>\n",
       "      <th></th>\n",
       "      <th></th>\n",
       "      <th></th>\n",
       "      <th></th>\n",
       "      <th></th>\n",
       "    </tr>\n",
       "  </thead>\n",
       "  <tbody>\n",
       "    <tr>\n",
       "      <th>2002-07-15</th>\n",
       "      <td>-0.263995</td>\n",
       "      <td>-0.253857</td>\n",
       "      <td>-0.226892</td>\n",
       "      <td>-0.220450</td>\n",
       "      <td>-0.229923</td>\n",
       "      <td>-0.366846</td>\n",
       "      <td>-0.253857</td>\n",
       "      <td>0.026571</td>\n",
       "      <td>-0.624699</td>\n",
       "      <td>-0.529126</td>\n",
       "      <td>-0.257532</td>\n",
       "    </tr>\n",
       "    <tr>\n",
       "      <th>2002-07-16</th>\n",
       "      <td>-0.267730</td>\n",
       "      <td>-0.257299</td>\n",
       "      <td>-0.230376</td>\n",
       "      <td>-0.216459</td>\n",
       "      <td>-0.240941</td>\n",
       "      <td>-0.049616</td>\n",
       "      <td>-0.257299</td>\n",
       "      <td>0.091776</td>\n",
       "      <td>-0.129362</td>\n",
       "      <td>-0.529126</td>\n",
       "      <td>-0.257532</td>\n",
       "    </tr>\n",
       "    <tr>\n",
       "      <th>2002-07-17</th>\n",
       "      <td>-0.267730</td>\n",
       "      <td>-0.257299</td>\n",
       "      <td>-0.234041</td>\n",
       "      <td>-0.215790</td>\n",
       "      <td>-0.248950</td>\n",
       "      <td>-0.001912</td>\n",
       "      <td>-0.257299</td>\n",
       "      <td>0.129373</td>\n",
       "      <td>-0.134682</td>\n",
       "      <td>-0.529126</td>\n",
       "      <td>-0.267858</td>\n",
       "    </tr>\n",
       "    <tr>\n",
       "      <th>2002-07-18</th>\n",
       "      <td>-0.278936</td>\n",
       "      <td>-0.267624</td>\n",
       "      <td>-0.238571</td>\n",
       "      <td>-0.214607</td>\n",
       "      <td>-0.259208</td>\n",
       "      <td>-0.147886</td>\n",
       "      <td>-0.267624</td>\n",
       "      <td>0.178954</td>\n",
       "      <td>-0.166516</td>\n",
       "      <td>-0.529126</td>\n",
       "      <td>-0.285067</td>\n",
       "    </tr>\n",
       "    <tr>\n",
       "      <th>2002-07-19</th>\n",
       "      <td>-0.297612</td>\n",
       "      <td>-0.284833</td>\n",
       "      <td>-0.244842</td>\n",
       "      <td>-0.212216</td>\n",
       "      <td>-0.274176</td>\n",
       "      <td>-0.260731</td>\n",
       "      <td>-0.284833</td>\n",
       "      <td>0.254224</td>\n",
       "      <td>-0.228441</td>\n",
       "      <td>-0.529126</td>\n",
       "      <td>-0.289197</td>\n",
       "    </tr>\n",
       "  </tbody>\n",
       "</table>\n",
       "</div>"
      ],
      "text/plain": [
       "               Close  Adj Close  roll_mean     band1     band2  daily_ret  \\\n",
       "Date                                                                        \n",
       "2002-07-15 -0.263995  -0.253857  -0.226892 -0.220450 -0.229923  -0.366846   \n",
       "2002-07-16 -0.267730  -0.257299  -0.230376 -0.216459 -0.240941  -0.049616   \n",
       "2002-07-17 -0.267730  -0.257299  -0.234041 -0.215790 -0.248950  -0.001912   \n",
       "2002-07-18 -0.278936  -0.267624  -0.238571 -0.214607 -0.259208  -0.147886   \n",
       "2002-07-19 -0.297612  -0.284833  -0.244842 -0.212216 -0.274176  -0.260731   \n",
       "\n",
       "            cumulative ret  roll_std  momentum  stochastic osc  Close Predict  \n",
       "Date                                                                           \n",
       "2002-07-15       -0.253857  0.026571 -0.624699       -0.529126      -0.257532  \n",
       "2002-07-16       -0.257299  0.091776 -0.129362       -0.529126      -0.257532  \n",
       "2002-07-17       -0.257299  0.129373 -0.134682       -0.529126      -0.267858  \n",
       "2002-07-18       -0.267624  0.178954 -0.166516       -0.529126      -0.285067  \n",
       "2002-07-19       -0.284833  0.254224 -0.228441       -0.529126      -0.289197  "
      ]
     },
     "execution_count": 4,
     "metadata": {},
     "output_type": "execute_result"
    }
   ],
   "source": [
    "df = (data - data.mean()) / (data.max() - data.min())\n",
    "print(\"DataFrame:\", df.shape)\n",
    "print(\"Standardization makes the mean close to zero. All feature values now lie between -1 and +1\")\n",
    "df.head()"
   ]
  },
  {
   "cell_type": "code",
   "execution_count": 5,
   "metadata": {},
   "outputs": [
    {
     "data": {
      "image/png": "[encoded data removed]",
      "text/plain": [
       "<matplotlib.figure.Figure at 0x7a91d95ef0>"
      ]
     },
     "metadata": {},
     "output_type": "display_data"
    }
   ],
   "source": [
    "df[:10].plot(use_index = True, kind = 'bar')\n",
    "plt.title('Standardized Data : all features in range [-1, 1]')\n",
    "plt.xlabel('Dates')\n",
    "plt.ylabel('Stock Prices')\n",
    "plt.show()"
   ]
  },
  {
   "cell_type": "markdown",
   "metadata": {},
   "source": [
    "## Training and test sets"
   ]
  },
  {
   "cell_type": "code",
   "execution_count": 7,
   "metadata": {},
   "outputs": [
    {
     "name": "stdout",
     "output_type": "stream",
     "text": [
      "Columns present: ['Close', 'Adj Close', 'roll_mean', 'band1', 'band2', 'daily_ret', 'cumulative ret', 'roll_std', 'momentum', 'stochastic osc', 'Close Predict']\n",
      "All except 'Close Predict' are features- 'Close Predict' are the values that our model needs to predict\n",
      "Data consists of 10 features\n",
      "   \n",
      "Training data, (2814, 10) and labels, (2814,)\n",
      "Test data, (939, 10) and labels, (939,)\n"
     ]
    }
   ],
   "source": [
    "col_names = list(df)\n",
    "feature_names = col_names[:-1]\n",
    "n_features = len(feature_names)\n",
    "target_name = col_names[-1]\n",
    "print(\"Columns present:\", col_names)\n",
    "print(\"All except '{}' are features- '{}' are the values that our model needs to predict\".format(target_name, target_name))\n",
    "print(\"Data consists of {} features\".format(n_features))\n",
    "\n",
    "print(\"   \")\n",
    "\n",
    "train_test_ratio = 0.75\n",
    "df_train = df[:int(df.shape[0]*train_test_ratio)]\n",
    "df_test = df[int(df.shape[0]*train_test_ratio):]\n",
    "\n",
    "X_train = df_train[feature_names].as_matrix()\n",
    "y_train = df_train[target_name].as_matrix()\n",
    "\n",
    "X_test = df_test[feature_names].as_matrix()\n",
    "y_test = df_test[target_name].as_matrix()\n",
    "\n",
    "print(\"Training data,\", X_train.shape, \"and labels,\", y_train.shape)\n",
    "print(\"Test data,\", X_test.shape, \"and labels,\", y_test.shape)"
   ]
  },
  {
   "cell_type": "markdown",
   "metadata": {},
   "source": [
    "## Initialize parameters"
   ]
  },
  {
   "cell_type": "code",
   "execution_count": 8,
   "metadata": {},
   "outputs": [
    {
     "name": "stdout",
     "output_type": "stream",
     "text": [
      "In training set, the sequence is 2814 long\n",
      "It has been truncated to subsequences of length =  4\n",
      "Hence we feed the model 703 batches, each containing 1 subsequence\n",
      "This means, while training, the error is backpropagated only 4 time steps\n"
     ]
    }
   ],
   "source": [
    "batch_size = 1  #feed batch_size subsequences at a time\n",
    "\n",
    "series_len = X_train.shape[0]   #length of the time series \n",
    "print(\"In training set, the sequence is\", series_len, \"long\")\n",
    "\n",
    "n_steps = 4    #feed the RNN in truncated subsequences \n",
    "print(\"It has been truncated to subsequences of length = \", n_steps)\n",
    "\n",
    "n_classes = 1 #model will output a single number\n",
    "n_batches = series_len//batch_size//n_steps \n",
    "print(\"Hence we feed the model\", n_batches, \"batches, each containing\", batch_size, \"subsequence\") \n",
    "print(\"This means, while training, the error is backpropagated only\", n_steps, \"time steps\" )"
   ]
  },
  {
   "cell_type": "markdown",
   "metadata": {},
   "source": [
    "## 1: Single Layer RNN"
   ]
  },
  {
   "cell_type": "markdown",
   "metadata": {},
   "source": [
    "###  Design the network"
   ]
  },
  {
   "cell_type": "code",
   "execution_count": 9,
   "metadata": {},
   "outputs": [
    {
     "name": "stdout",
     "output_type": "stream",
     "text": [
      "The hidden layer (RNN) containing 40 memory units generates output of shape (?, 4, 40)\n",
      "RNN output finally reshaped to (?, 40) and labels reshaped to (?, 1)\n",
      "Fully connected layer's output of shape (?, 1)\n"
     ]
    }
   ],
   "source": [
    "n_hidden = 40 #number of neurons in the hidden layer\n",
    "\n",
    "#Initialize placeholders\n",
    "X = tf.placeholder(shape=[None, n_steps, n_features], dtype=tf.float32)  \n",
    "y = tf.placeholder(shape=[None, n_steps, n_classes], dtype=tf.float32) \n",
    "labels = tf.unstack(y, axis=1)  \n",
    "\n",
    "#Create the RNN\n",
    "cell = tf.nn.rnn_cell.BasicRNNCell(n_hidden)\n",
    "output, state = tf.nn.dynamic_rnn(cell = cell, inputs = X, dtype = tf.float32)  \n",
    "print(\"The hidden layer (RNN) containing\", n_hidden, \"memory units generates output of shape\", output.get_shape())\n",
    "\n",
    "stacked_rnn_outputs = tf.reshape(output, [-1, n_hidden]) \n",
    "labels = tf.gather(params = labels, indices = 2)     \n",
    "print(\"RNN output finally reshaped to\", stacked_rnn_outputs.get_shape(), \"and labels reshaped to\", labels.get_shape())\n",
    "\n",
    "from tensorflow.contrib.layers import fully_connected\n",
    "n_outputs = 1\n",
    "logits = fully_connected(stacked_rnn_outputs, n_outputs, activation_fn = None)\n",
    "print(\"Fully connected layer's output of shape\", logits.get_shape())\n",
    "\n",
    "#Evaluation metrics\n",
    "loss = tf.reduce_mean(tf.square(logits - labels))\n",
    "optimizer = tf.train.AdamOptimizer(learning_rate = 0.001)\n",
    "train_op = optimizer.minimize(loss)  \n",
    "\n",
    "sess = tf.InteractiveSession()\n",
    "tf.global_variables_initializer().run()\n",
    "\n",
    "path = \"./1_RNN_again\"\n",
    "saver = tf.train.Saver()"
   ]
  },
  {
   "cell_type": "markdown",
   "metadata": {},
   "source": [
    "###  Train the model"
   ]
  },
  {
   "cell_type": "code",
   "execution_count": 10,
   "metadata": {
    "scrolled": true
   },
   "outputs": [
    {
     "name": "stdout",
     "output_type": "stream",
     "text": [
      "Epoch 0: MSE = 4.75786036986392e-05\n",
      "Epoch 1: MSE = 5.070601400802843e-05\n",
      "Epoch 2: MSE = 1.3736127584706992e-05\n",
      "Epoch 3: MSE = 1.7052687326213345e-05\n",
      "Epoch 4: MSE = 2.443758239678573e-05\n",
      "Epoch 5: MSE = 2.9415528842946514e-05\n",
      "Epoch 6: MSE = 3.256019044783898e-05\n",
      "Epoch 7: MSE = 3.364250005688518e-05\n",
      "Epoch 8: MSE = 3.227994602639228e-05\n",
      "Epoch 9: MSE = 2.9051943783997558e-05\n",
      "Training took 0.5879243771235149 minutes\n"
     ]
    }
   ],
   "source": [
    "def train_model(path, use_dropout = False):\n",
    "    n_epochs = 10\n",
    "    train_loss_log = []       \n",
    "    display_step = 1\n",
    "    \n",
    "    start = time()\n",
    "    for epoch in range(n_epochs):\n",
    "        for batch in range(n_batches):\n",
    "            i1 = batch * n_steps\n",
    "            i2 = i1 + n_steps*batch_size\n",
    "\n",
    "            X_batch = X_train[i1:i2, :]\n",
    "            X_batch = X_batch.reshape(batch_size, n_steps, n_features)\n",
    "            y_batch = y_train[i1:i2]\n",
    "            y_batch = y_batch.reshape(batch_size, n_steps, 1)\n",
    "\n",
    "            train_op_, loss_ =  sess.run([train_op, loss], feed_dict={X: X_batch, y: y_batch})\n",
    "            if use_dropout:\n",
    "                train_op_, loss_ =  sess.run([train_op, loss], feed_dict={X: X_batch, y: y_batch, keep_prob: train_keep_prob})\n",
    "                \n",
    "            train_loss_log.append(loss_)\n",
    "\n",
    "        if(epoch % display_step == 0):\n",
    "                print('Epoch {}: MSE = {}'.format(epoch, loss_))\n",
    "        save_path = saver.save(sess, path)\n",
    "    print(\"Training took {} minutes\".format((time() - start)/60))\n",
    "    return train_loss_log\n",
    "        \n",
    "train_loss_log = train_model(path)"
   ]
  },
  {
   "cell_type": "markdown",
   "metadata": {},
   "source": [
    "###  Evaluate the model"
   ]
  },
  {
   "cell_type": "code",
   "execution_count": 11,
   "metadata": {},
   "outputs": [
    {
     "name": "stdout",
     "output_type": "stream",
     "text": [
      "INFO:tensorflow:Restoring parameters from ./1_RNN_again\n"
     ]
    },
    {
     "data": {
      "image/png": "[encoded data removed]",
      "text/plain": [
       "<matplotlib.figure.Figure at 0x7a8db489b0>"
      ]
     },
     "metadata": {},
     "output_type": "display_data"
    },
    {
     "name": "stdout",
     "output_type": "stream",
     "text": [
      "MSE reduced from 0.03249110281467438 to 2.9051943783997558e-05\n",
      "Model's R-squared score =  0.7569886559822759\n"
     ]
    },
    {
     "data": {
      "image/png": "[encoded data removed]",
      "text/plain": [
       "<matplotlib.figure.Figure at 0x7a973518d0>"
      ]
     },
     "metadata": {},
     "output_type": "display_data"
    }
   ],
   "source": [
    "def evaluate_model(path, train_loss_log):\n",
    "    \n",
    "    saver.restore(sess, path)\n",
    "    predictions = []\n",
    "    y_true = []\n",
    "    \n",
    "    import matplotlib.pyplot as plt\n",
    "    %matplotlib inline\n",
    "\n",
    "    plt.title('Training Loss')\n",
    "    plt.scatter(x = np.arange(0, len(train_loss_log)), y = train_loss_log)\n",
    "    plt.xlabel('Steps')\n",
    "    plt.ylabel('Loss')\n",
    "    ax = plt.gca()\n",
    "    ax.xaxis.set_ticks(np.arange(0, len(train_loss_log), 200000))\n",
    "    plt.show()\n",
    "    \n",
    "    for i in range(len(X_test) - n_steps):\n",
    "        X_test_batch = X_test[i:i+n_steps, :]\n",
    "        X_test_batch = X_test_batch.reshape(1, n_steps, n_features)\n",
    "\n",
    "        y_test_batch = y_test[i:i+n_steps]\n",
    "        y_test_batch = y_test_batch.reshape((1, n_steps, 1))\n",
    "\n",
    "        test_set_preds = sess.run(logits, feed_dict = {X: X_test_batch, y: y_test_batch})\n",
    "        #test_set_preds has predictions of size= n_step (for each batch); we extract the prediction at the last time step\n",
    "        predictions.append(test_set_preds[-1][0])\n",
    "        y_true.append(y_test_batch[-1][0])\n",
    "    \n",
    "    #Measure R-squared: coefficient of determination\n",
    "    from sklearn.metrics import r2_score\n",
    "    model_r2 = r2_score(y_true, predictions)\n",
    "\n",
    "    print(\"MSE reduced from {} to {}\".format(train_loss_log[0], train_loss_log[-1]))\n",
    "    print(\"Model's R-squared score = \", model_r2)\n",
    "\n",
    "    #Visualize predictions\n",
    "    plt.plot(y_test, label = 'actual prices', color='green')\n",
    "    plt.plot(predictions, label='predicted prices',color='red')\n",
    "    plt.title('Actual Prices vs Predicted Prices')\n",
    "    plt.legend(loc = 'upper left')\n",
    "    plt.show()\n",
    "    \n",
    "    return None\n",
    "\n",
    "evaluate_model(path, train_loss_log)"
   ]
  },
  {
   "cell_type": "markdown",
   "metadata": {
    "collapsed": true
   },
   "source": [
    "## 2: Deep RNN"
   ]
  },
  {
   "cell_type": "markdown",
   "metadata": {},
   "source": [
    "### Design the network"
   ]
  },
  {
   "cell_type": "code",
   "execution_count": 13,
   "metadata": {},
   "outputs": [
    {
     "name": "stdout",
     "output_type": "stream",
     "text": [
      "The hidden layer (RNN) containing 100 memory units generates output of shape (?, 4, 100)\n",
      "RNN output finally reshaped to (?, 100) and labels reshaped to (?, 1)\n",
      "Fully connected layer's output of shape (?, 1)\n"
     ]
    }
   ],
   "source": [
    "tf.reset_default_graph() #delete the previous graph\n",
    "\n",
    "n_hidden = 100 #number of neurons in the hidden layer\n",
    "n_layers = 3\n",
    "\n",
    "#Initialize placeholders\n",
    "X = tf.placeholder(shape=[None, n_steps, n_features], dtype=tf.float32)  \n",
    "y = tf.placeholder(shape=[None, n_steps, n_classes], dtype=tf.float32) \n",
    "labels = tf.unstack(y, axis=1)  \n",
    "\n",
    "#Create the RNN\n",
    "RNN_layers = [tf.contrib.rnn.BasicRNNCell(n_hidden) for layer in range(n_layers)] #create n_layers layers\n",
    "multi_layer_cell = tf.contrib.rnn.MultiRNNCell(RNN_layers)\n",
    "output, state = tf.nn.dynamic_rnn(cell = multi_layer_cell, inputs = X, dtype = tf.float32)  \n",
    "print(\"The hidden layer (RNN) containing\", n_hidden, \"memory units generates output of shape\", output.get_shape())\n",
    "\n",
    "stacked_rnn_outputs = tf.reshape(output, [-1, n_hidden]) \n",
    "labels = tf.gather(params = labels, indices = 2)     \n",
    "print(\"RNN output finally reshaped to\", stacked_rnn_outputs.get_shape(), \"and labels reshaped to\", labels.get_shape())\n",
    "\n",
    "from tensorflow.contrib.layers import fully_connected\n",
    "n_outputs = 1\n",
    "logits = fully_connected(stacked_rnn_outputs, n_outputs, activation_fn = None)\n",
    "print(\"Fully connected layer's output of shape\", logits.get_shape())\n",
    "\n",
    "#Evaluation metrics\n",
    "loss = tf.reduce_mean(tf.square(logits - labels))\n",
    "optimizer = tf.train.AdamOptimizer(learning_rate = 0.001)\n",
    "train_op = optimizer.minimize(loss)  \n",
    "\n",
    "sess = tf.InteractiveSession()\n",
    "tf.global_variables_initializer().run()\n",
    "path = \"./2_DRNN_again\"\n",
    "saver = tf.train.Saver()"
   ]
  },
  {
   "cell_type": "markdown",
   "metadata": {},
   "source": [
    "### Train the model"
   ]
  },
  {
   "cell_type": "code",
   "execution_count": 14,
   "metadata": {
    "scrolled": true
   },
   "outputs": [
    {
     "name": "stdout",
     "output_type": "stream",
     "text": [
      "Epoch 0: MSE = 6.327092705760151e-05\n",
      "Epoch 1: MSE = 0.00010123538231709972\n",
      "Epoch 2: MSE = 7.434111466864124e-05\n",
      "Epoch 3: MSE = 4.407555752550252e-05\n",
      "Epoch 4: MSE = 2.5088605980272405e-05\n",
      "Epoch 5: MSE = 2.0596638933056965e-05\n",
      "Epoch 6: MSE = 1.9936451280955225e-05\n",
      "Epoch 7: MSE = 1.6459156540804543e-05\n",
      "Epoch 8: MSE = 1.4250344975152984e-05\n",
      "Epoch 9: MSE = 1.7072725313482806e-05\n",
      "Training took 0.8922212680180868 minutes\n"
     ]
    }
   ],
   "source": [
    "train_loss_log =  train_model(path)"
   ]
  },
  {
   "cell_type": "markdown",
   "metadata": {},
   "source": [
    "###  Evaluate the model"
   ]
  },
  {
   "cell_type": "code",
   "execution_count": 15,
   "metadata": {},
   "outputs": [
    {
     "name": "stdout",
     "output_type": "stream",
     "text": [
      "INFO:tensorflow:Restoring parameters from ./2_DRNN_again\n"
     ]
    },
    {
     "data": {
      "image/png": "[encoded data removed]",
      "text/plain": [
       "<matplotlib.figure.Figure at 0x7a97b257f0>"
      ]
     },
     "metadata": {},
     "output_type": "display_data"
    },
    {
     "name": "stdout",
     "output_type": "stream",
     "text": [
      "MSE reduced from 0.049431346356868744 to 1.7072725313482806e-05\n",
      "Model's R-squared score =  -0.3944888799850348\n"
     ]
    },
    {
     "data": {
      "image/png": "[encoded data removed]",
      "text/plain": [
       "<matplotlib.figure.Figure at 0x7a97bd2b70>"
      ]
     },
     "metadata": {},
     "output_type": "display_data"
    }
   ],
   "source": [
    "evaluate_model(path, train_loss_log)"
   ]
  },
  {
   "cell_type": "markdown",
   "metadata": {},
   "source": [
    "## 3: Deep RNN Regularized with dropout"
   ]
  },
  {
   "cell_type": "code",
   "execution_count": 16,
   "metadata": {},
   "outputs": [
    {
     "name": "stdout",
     "output_type": "stream",
     "text": [
      "The hidden layer (RNN) containing 100 memory units generates output of shape (?, 4, 100)\n",
      "RNN output finally reshaped to (?, 100) and labels reshaped to (?, 1)\n",
      "Fully connected layer's output of shape (?, 1)\n"
     ]
    }
   ],
   "source": [
    "tf.reset_default_graph() #delete the previous graph\n",
    "\n",
    "n_hidden = 100 #number of neurons in the hidden layer\n",
    "n_layers = 3\n",
    "\n",
    "#Initialize placeholders\n",
    "X = tf.placeholder(shape=[None, n_steps, n_features], dtype=tf.float32)  \n",
    "y = tf.placeholder(shape=[None, n_steps, n_classes], dtype=tf.float32) \n",
    "labels = tf.unstack(y, axis=1)  \n",
    "\n",
    "#Create the RNN\n",
    "keep_prob = tf.placeholder_with_default(1.0, shape=())\n",
    "RNN_cells = [tf.contrib.rnn.BasicRNNCell(num_units = n_hidden) for layer in range(n_layers)]\n",
    "cells_dropped = [tf.contrib.rnn.DropoutWrapper(cell, input_keep_prob = keep_prob) for cell in RNN_cells]\n",
    "multi_layer_cell = tf.contrib.rnn.MultiRNNCell(cells_dropped)\n",
    "output, state = tf.nn.dynamic_rnn(cell = multi_layer_cell, inputs = X, dtype=tf.float32)\n",
    "print(\"The hidden layer (RNN) containing\", n_hidden, \"memory units generates output of shape\", output.get_shape())\n",
    "\n",
    "stacked_rnn_outputs = tf.reshape(output, [-1, n_hidden]) \n",
    "labels = tf.gather(params = labels, indices = 2)     \n",
    "print(\"RNN output finally reshaped to\", stacked_rnn_outputs.get_shape(), \"and labels reshaped to\", labels.get_shape())\n",
    "\n",
    "from tensorflow.contrib.layers import fully_connected\n",
    "n_outputs = 1\n",
    "logits = fully_connected(stacked_rnn_outputs, n_outputs, activation_fn = None)\n",
    "print(\"Fully connected layer's output of shape\", logits.get_shape())\n",
    "\n",
    "#Evaluation metrics\n",
    "loss = tf.reduce_mean(tf.square(logits - labels))\n",
    "optimizer = tf.train.AdamOptimizer(learning_rate = 0.001)\n",
    "train_op = optimizer.minimize(loss)  \n",
    "\n",
    "sess = tf.InteractiveSession()\n",
    "tf.global_variables_initializer().run()\n",
    "path = \"./3_regDRNN_again\"\n",
    "saver = tf.train.Saver()"
   ]
  },
  {
   "cell_type": "markdown",
   "metadata": {},
   "source": [
    "### Train the model"
   ]
  },
  {
   "cell_type": "code",
   "execution_count": 17,
   "metadata": {
    "scrolled": true
   },
   "outputs": [
    {
     "name": "stdout",
     "output_type": "stream",
     "text": [
      "Epoch 0: MSE = 0.009553978219628334\n",
      "Epoch 1: MSE = 0.0004730487708002329\n",
      "Epoch 2: MSE = 0.00174345588311553\n",
      "Epoch 3: MSE = 0.004197188653051853\n",
      "Epoch 4: MSE = 0.0018791412003338337\n",
      "Epoch 5: MSE = 0.00021677580662071705\n",
      "Epoch 6: MSE = 0.0009686205303296447\n",
      "Epoch 7: MSE = 0.0003595724992919713\n",
      "Epoch 8: MSE = 0.0011308022076264024\n",
      "Epoch 9: MSE = 0.001346389763057232\n",
      "Training took 1.5466067751248678 minutes\n"
     ]
    }
   ],
   "source": [
    "train_keep_prob = 0.3\n",
    "train_loss_log =  train_model(path, use_dropout = True)"
   ]
  },
  {
   "cell_type": "markdown",
   "metadata": {},
   "source": [
    "### Evaluate the model"
   ]
  },
  {
   "cell_type": "code",
   "execution_count": 18,
   "metadata": {},
   "outputs": [
    {
     "name": "stdout",
     "output_type": "stream",
     "text": [
      "INFO:tensorflow:Restoring parameters from ./3_regDRNN_again\n"
     ]
    },
    {
     "data": {
      "image/png": "[encoded data removed]",
      "text/plain": [
       "<matplotlib.figure.Figure at 0x7a9a03fda0>"
      ]
     },
     "metadata": {},
     "output_type": "display_data"
    },
    {
     "name": "stdout",
     "output_type": "stream",
     "text": [
      "MSE reduced from 0.4595774710178375 to 0.001346389763057232\n",
      "Model's R-squared score =  -3.918464870670216\n"
     ]
    },
    {
     "data": {
      "image/png": "[encoded data removed]",
      "text/plain": [
       "<matplotlib.figure.Figure at 0x7a9a037eb8>"
      ]
     },
     "metadata": {},
     "output_type": "display_data"
    }
   ],
   "source": [
    "evaluate_model(path, train_loss_log)"
   ]
  },
  {
   "cell_type": "code",
   "execution_count": null,
   "metadata": {
    "collapsed": true
   },
   "outputs": [],
   "source": []
  }
 ],
 "metadata": {
  "anaconda-cloud": {},
  "kernelspec": {
   "display_name": "Python 3",
   "language": "python",
   "name": "python3"
  },
  "language_info": {
   "codemirror_mode": {
    "name": "ipython",
    "version": 3
   },
   "file_extension": ".py",
   "mimetype": "text/x-python",
   "name": "python",
   "nbconvert_exporter": "python",
   "pygments_lexer": "ipython3",
   "version": "3.6.3"
  }
 },
 "nbformat": 4,
 "nbformat_minor": 1
}
